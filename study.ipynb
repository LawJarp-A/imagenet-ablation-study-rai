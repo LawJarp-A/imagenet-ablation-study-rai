{
 "cells": [
  {
   "cell_type": "code",
   "execution_count": 10,
   "metadata": {},
   "outputs": [],
   "source": [
    "import pandas as pd\n",
    "import json"
   ]
  },
  {
   "cell_type": "code",
   "execution_count": 13,
   "metadata": {},
   "outputs": [],
   "source": [
    "df = pd.read_csv('/home/lawjarp/Projects/radiusai/imagenet-ablation-study-rai/all_models_metrics_df.csv')\n",
    "label_mapping = json.load(open('/home/lawjarp/Projects/radiusai/imagenet-ablation-study-rai/Labels.json'))"
   ]
  },
  {
   "cell_type": "code",
   "execution_count": 18,
   "metadata": {},
   "outputs": [],
   "source": [
    "class_precisions = [f\"{x}_precision\" for x in label_mapping.keys()]\n",
    "class_recall = [f\"{x}_recall\" for x in label_mapping.keys()]\n",
    "class_f1 = [f\"{x}_f1\" for x in label_mapping.keys()]"
   ]
  },
  {
   "cell_type": "code",
   "execution_count": 8,
   "metadata": {},
   "outputs": [
    {
     "name": "stdout",
     "output_type": "stream",
     "text": [
      "Top Performing Models:\n",
      "         model_name    f1_avg\n",
      "1          resnet50  0.867557\n",
      "0  swin_s3_tiny_224  0.866737\n",
      "4   efficientnet_b0  0.849509\n"
     ]
    }
   ],
   "source": [
    "# List the top performing 3 models\n",
    "top_models = df.sort_values(by='f1_avg', ascending=False).head(3)[['model_name', 'f1_avg']]\n",
    "print(\"Top Performing Models:\")\n",
    "print(top_models)"
   ]
  },
  {
   "cell_type": "markdown",
   "metadata": {},
   "source": [
    "### Top Models\n",
    "* The top models where Resent, Swin and Efficientnet\n",
    "* Swin would have taken the top poistion if I had let it train for more than 5 epochs, but I did not have enough GPU hours\n",
    "* Efficientnet also performed very well\n",
    "\n",
    "### Observations\n",
    "* The Swin transformer works very well for this data acheiveing a high score with less training, this dataset is well suited for this as it has a lot of data, and transofmers need data to perform well\n",
    "* Resnet is a complex Deep CNN which is large and hence it might have beaten Efficicentnet, whcih is a smaller model compared"
   ]
  },
  {
   "cell_type": "markdown",
   "metadata": {},
   "source": [
    "## Top 10 predicted class for each model wrt precision, recall and f1 score"
   ]
  },
  {
   "cell_type": "code",
   "execution_count": 60,
   "metadata": {},
   "outputs": [
    {
     "name": "stdout",
     "output_type": "stream",
     "text": [
      "\n",
      "Top 10 classes for swin_s3_tiny_224 based on Precision:\n",
      "chambered nautilus, pearly nautilus, nautilus 1.0\n",
      "tench, Tinca tinca 1.0\n",
      "flatworm, platyhelminth 1.0\n",
      "sea anemone, anemone 1.0\n",
      "spoonbill 1.0\n",
      "goldfinch, Carduelis carduelis 1.0\n",
      "great grey owl, great gray owl, Strix nebulosa 1.0\n",
      "macaw 0.9803921568627452\n",
      "black swan, Cygnus atratus 0.9803921568627452\n",
      "indigo bunting, indigo finch, indigo bird, Passerina cyanea 0.98\n",
      "\n",
      "Top 10 classes for resnet50 based on Precision:\n",
      "chambered nautilus, pearly nautilus, nautilus 1.0\n",
      "macaw 1.0\n",
      "flamingo 1.0\n",
      "great grey owl, great gray owl, Strix nebulosa 1.0\n",
      "goldfinch, Carduelis carduelis 0.9803921568627452\n",
      "black swan, Cygnus atratus 0.9803921568627452\n",
      "chickadee 0.98\n",
      "chiton, coat-of-mail shell, sea cradle, polyplacophore 0.979591836734694\n",
      "bittern 0.9791666666666666\n",
      "toucan 0.9791666666666666\n",
      "\n",
      "Top 10 classes for mobilenetv2_100 based on Precision:\n",
      "chambered nautilus, pearly nautilus, nautilus 1.0\n",
      "flamingo 1.0\n",
      "goldfinch, Carduelis carduelis 0.98\n",
      "black swan, Cygnus atratus 0.98\n",
      "lorikeet 0.979591836734694\n",
      "sea anemone, anemone 0.9761904761904762\n",
      "prairie chicken, prairie grouse, prairie fowl 0.9591836734693876\n",
      "pelican 0.9583333333333334\n",
      "American coot, marsh hen, mud hen, water hen, Fulica americana 0.9574468085106383\n",
      "black grouse 0.9555555555555556\n",
      "\n",
      "Top 10 classes for vit_tiny_patch16_224 based on Precision:\n",
      "water ouzel, dipper 1.0\n",
      "goldfinch, Carduelis carduelis 1.0\n",
      "spoonbill 0.9803921568627452\n",
      "chickadee 0.98\n",
      "great grey owl, great gray owl, Strix nebulosa 0.98\n",
      "flamingo 0.9791666666666666\n",
      "tench, Tinca tinca 0.9791666666666666\n",
      "chambered nautilus, pearly nautilus, nautilus 0.9772727272727272\n",
      "sea anemone, anemone 0.9767441860465116\n",
      "toucan 0.9761904761904762\n",
      "\n",
      "Top 10 classes for efficientnet_b0 based on Precision:\n",
      "chambered nautilus, pearly nautilus, nautilus 1.0\n",
      "macaw 1.0\n",
      "chickadee 1.0\n",
      "oystercatcher, oyster catcher 1.0\n",
      "red-backed sandpiper, dunlin, Erolia alpina 1.0\n",
      "great grey owl, great gray owl, Strix nebulosa 0.98\n",
      "prairie chicken, prairie grouse, prairie fowl 0.98\n",
      "flamingo 0.979591836734694\n",
      "tench, Tinca tinca 0.979591836734694\n",
      "goldfinch, Carduelis carduelis 0.979591836734694\n"
     ]
    }
   ],
   "source": [
    "# For each model, list the top 10 classes with respect to precision, recall, and f1 score\n",
    "for model in df['model_name']:\n",
    "    print(f\"\\nTop 10 classes for {model} based on Precision:\")\n",
    "    t_df = df[df['model_name']==model][class_precisions]\n",
    "    row_data = t_df.iloc[0]\n",
    "    col_value_tuples = [(col, val) for col, val in row_data.items()]\n",
    "    top_10_values = sorted(col_value_tuples, key=lambda x: x[1], reverse=True)[:10]\n",
    "    for v in top_10_values:\n",
    "        c, val = v\n",
    "        c = label_mapping[c.split('_')[0]]\n",
    "        print(c, val)\n",
    "    \n"
   ]
  },
  {
   "cell_type": "markdown",
   "metadata": {},
   "source": [
    "- **Consistency in Precision Across Models:**\n",
    "  - Classes like \"chambered nautilus, pearly nautilus, nautilus\", \"macaw\", \"flamingo\", and \"great grey owl, great gray owl, Strix nebulosa\" consistently achieve high precision scores across models, often reaching 1.0.\n",
    "  \n",
    "- **Model-Specific Class Performance:**\n",
    "  - Different models prioritize classes differently based on architecture and training data. For example, \"water ouzel, dipper\" achieves a precision score of 1.0 only in the \"vit_tiny_patch16_224\" model.\n",
    "  \n",
    "- **Potential Class Difficulty:**\n",
    "  - Classes with consistently high precision scores may represent easily distinguishable visual patterns, while lower precision scores or higher variability indicate potential challenges in classification.\n"
   ]
  },
  {
   "cell_type": "code",
   "execution_count": 61,
   "metadata": {},
   "outputs": [
    {
     "name": "stdout",
     "output_type": "stream",
     "text": [
      "\n",
      "Top 10 classes for swin_s3_tiny_224 based on Recall:\n",
      "macaw 1.0\n",
      "chickadee 1.0\n",
      "bee eater 1.0\n",
      "goldfinch, Carduelis carduelis 1.0\n",
      "great grey owl, great gray owl, Strix nebulosa 1.0\n",
      "black swan, Cygnus atratus 1.0\n",
      "sea slug, nudibranch 1.0\n",
      "indigo bunting, indigo finch, indigo bird, Passerina cyanea 0.98\n",
      "flamingo 0.98\n",
      "tench, Tinca tinca 0.98\n",
      "\n",
      "Top 10 classes for resnet50 based on Recall:\n",
      "lorikeet 1.0\n",
      "spoonbill 1.0\n",
      "goldfinch, Carduelis carduelis 1.0\n",
      "black swan, Cygnus atratus 1.0\n",
      "sea slug, nudibranch 1.0\n",
      "harvestman, daddy longlegs, Phalangium opilio 0.98\n",
      "macaw 0.98\n",
      "flamingo 0.98\n",
      "garter snake, grass snake 0.98\n",
      "tench, Tinca tinca 0.98\n",
      "\n",
      "Top 10 classes for mobilenetv2_100 based on Recall:\n",
      "spoonbill 0.98\n",
      "goldfinch, Carduelis carduelis 0.98\n",
      "great grey owl, great gray owl, Strix nebulosa 0.98\n",
      "black swan, Cygnus atratus 0.98\n",
      "hummingbird 0.98\n",
      "macaw 0.96\n",
      "tench, Tinca tinca 0.96\n",
      "sulphur-crested cockatoo, Kakatoe galerita, Cacatua galerita 0.96\n",
      "chickadee 0.96\n",
      "lorikeet 0.96\n",
      "\n",
      "Top 10 classes for vit_tiny_patch16_224 based on Recall:\n",
      "spoonbill 1.0\n",
      "chickadee 0.98\n",
      "goldfinch, Carduelis carduelis 0.98\n",
      "great grey owl, great gray owl, Strix nebulosa 0.98\n",
      "garter snake, grass snake 0.96\n",
      "bald eagle, American eagle, Haliaeetus leucocephalus 0.96\n",
      "goldfish, Carassius auratus 0.96\n",
      "lorikeet 0.96\n",
      "bee eater 0.96\n",
      "hummingbird 0.96\n",
      "\n",
      "Top 10 classes for efficientnet_b0 based on Recall:\n",
      "lorikeet 1.0\n",
      "macaw 0.98\n",
      "sulphur-crested cockatoo, Kakatoe galerita, Cacatua galerita 0.98\n",
      "bald eagle, American eagle, Haliaeetus leucocephalus 0.98\n",
      "great grey owl, great gray owl, Strix nebulosa 0.98\n",
      "black swan, Cygnus atratus 0.98\n",
      "prairie chicken, prairie grouse, prairie fowl 0.98\n",
      "sea slug, nudibranch 0.98\n",
      "indigo bunting, indigo finch, indigo bird, Passerina cyanea 0.96\n",
      "flamingo 0.96\n"
     ]
    }
   ],
   "source": [
    "for model in df['model_name']:\n",
    "    print(f\"\\nTop 10 classes for {model} based on Recall:\")\n",
    "    t_df = df[df['model_name']==model][class_recall]\n",
    "    row_data = t_df.iloc[0]\n",
    "    col_value_tuples = [(col, val) for col, val in row_data.items()]\n",
    "    top_10_values = sorted(col_value_tuples, key=lambda x: x[1], reverse=True)[:10]\n",
    "    for v in top_10_values:\n",
    "        c, val = v\n",
    "        c = label_mapping[c.split('_')[0]]\n",
    "        print(c, val)\n",
    "    \n",
    "    "
   ]
  },
  {
   "cell_type": "markdown",
   "metadata": {},
   "source": [
    "- **Consistency in Recall Across Models:**\n",
    "  - Classes like \"macaw\", \"chickadee\", \"goldfinch, Carduelis carduelis\", and \"great grey owl, great gray owl, Strix nebulosa\" consistently achieve high recall scores across models, often reaching 1.0.\n",
    "  \n",
    "- **Model-Specific Class Performance:**\n",
    "  - Different models prioritize classes differently based on recall scores. For example, \"lorikeet\" achieves a recall score of 1.0 only in the \"resnet50\" and \"efficienet_b0\" model, while \"hummingbird\" achieves a high score only in the \"mobilenetv2_100\" model.\n",
    "  \n",
    "- **Consistent Performance Across Models:**\n",
    "  - Classes like \"spoonbill\", \"black swan, Cygnus atratus\" consistently achieve high recall scores across multiple models"
   ]
  },
  {
   "cell_type": "code",
   "execution_count": 62,
   "metadata": {},
   "outputs": [
    {
     "name": "stdout",
     "output_type": "stream",
     "text": [
      "\n",
      "Top 10 classes for swin_s3_tiny_224 based on F1 Score:\n",
      "goldfinch, Carduelis carduelis 1.0\n",
      "great grey owl, great gray owl, Strix nebulosa 1.0\n",
      "macaw 0.99009900990099\n",
      "black swan, Cygnus atratus 0.99009900990099\n",
      "tench, Tinca tinca 0.98989898989899\n",
      "spoonbill 0.98989898989899\n",
      "chickadee 0.9803921568627452\n",
      "indigo bunting, indigo finch, indigo bird, Passerina cyanea 0.98\n",
      "flamingo 0.98\n",
      "lorikeet 0.98\n",
      "\n",
      "Top 10 classes for resnet50 based on F1 Score:\n",
      "goldfinch, Carduelis carduelis 0.99009900990099\n",
      "black swan, Cygnus atratus 0.99009900990099\n",
      "macaw 0.98989898989899\n",
      "flamingo 0.98989898989899\n",
      "spoonbill 0.9803921568627452\n",
      "chickadee 0.98\n",
      "great grey owl, great gray owl, Strix nebulosa 0.979591836734694\n",
      "lorikeet 0.970873786407767\n",
      "sea slug, nudibranch 0.970873786407767\n",
      "sulphur-crested cockatoo, Kakatoe galerita, Cacatua galerita 0.9702970297029702\n",
      "\n",
      "Top 10 classes for mobilenetv2_100 based on F1 Score:\n",
      "goldfinch, Carduelis carduelis 0.98\n",
      "black swan, Cygnus atratus 0.98\n",
      "lorikeet 0.9696969696969696\n",
      "chambered nautilus, pearly nautilus, nautilus 0.9690721649484536\n",
      "spoonbill 0.9607843137254902\n",
      "flamingo 0.9583333333333334\n",
      "hummingbird 0.9514563106796116\n",
      "macaw 0.9504950495049505\n",
      "chickadee 0.9504950495049505\n",
      "hornbill 0.9504950495049505\n",
      "\n",
      "Top 10 classes for vit_tiny_patch16_224 based on F1 Score:\n",
      "spoonbill 0.99009900990099\n",
      "goldfinch, Carduelis carduelis 0.98989898989899\n",
      "chickadee 0.98\n",
      "great grey owl, great gray owl, Strix nebulosa 0.98\n",
      "goldfish, Carassius auratus 0.96\n",
      "flamingo 0.9591836734693876\n",
      "tench, Tinca tinca 0.9591836734693876\n",
      "macaw 0.9494949494949496\n",
      "lorikeet 0.9411764705882352\n",
      "hummingbird 0.9411764705882352\n",
      "\n",
      "Top 10 classes for efficientnet_b0 based on F1 Score:\n",
      "macaw 0.98989898989899\n",
      "lorikeet 0.9803921568627452\n",
      "great grey owl, great gray owl, Strix nebulosa 0.98\n",
      "prairie chicken, prairie grouse, prairie fowl 0.98\n",
      "chickadee 0.979591836734694\n",
      "oystercatcher, oyster catcher 0.979591836734694\n",
      "sulphur-crested cockatoo, Kakatoe galerita, Cacatua galerita 0.9702970297029702\n",
      "flamingo 0.9696969696969696\n",
      "tench, Tinca tinca 0.9696969696969696\n",
      "goldfinch, Carduelis carduelis 0.9696969696969696\n"
     ]
    }
   ],
   "source": [
    "for model in df['model_name']:\n",
    "    print(f\"\\nTop 10 classes for {model} based on F1 Score:\")\n",
    "    t_df = df[df['model_name']==model][class_f1]\n",
    "    row_data = t_df.iloc[0]\n",
    "    col_value_tuples = [(col, val) for col, val in row_data.items()]\n",
    "    top_10_values = sorted(col_value_tuples, key=lambda x: x[1], reverse=True)[:10]\n",
    "    for v in top_10_values:\n",
    "        c, val = v\n",
    "        c = label_mapping[c.split('_')[0]]\n",
    "        print(c, val)"
   ]
  }
 ],
 "metadata": {
  "kernelspec": {
   "display_name": "dlenv",
   "language": "python",
   "name": "python3"
  },
  "language_info": {
   "codemirror_mode": {
    "name": "ipython",
    "version": 3
   },
   "file_extension": ".py",
   "mimetype": "text/x-python",
   "name": "python",
   "nbconvert_exporter": "python",
   "pygments_lexer": "ipython3",
   "version": "3.11.3"
  }
 },
 "nbformat": 4,
 "nbformat_minor": 2
}
